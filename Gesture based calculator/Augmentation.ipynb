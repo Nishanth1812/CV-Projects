{
 "cells": [
  {
   "cell_type": "markdown",
   "id": "2a2d9185",
   "metadata": {},
   "source": [
    "**Objective:** Perform Data Augmentation to increase the size and variance of the training data"
   ]
  },
  {
   "cell_type": "markdown",
   "id": "664999a0",
   "metadata": {},
   "source": [
    "**Note:** This implementation approach of data augmentation is taken from a project titled \"Brain-Tumor-Detection\" created by MohamedAliHabib. I have made slight changes to the approach , to suit my project and preferences.\n",
    "\n",
    "The github link for the original project is mentioned below:\n",
    "\n",
    "**GitHub Link:** https://github.com/MohamedAliHabib/Brain-Tumor-Detection"
   ]
  },
  {
   "cell_type": "markdown",
   "id": "074ffe6b",
   "metadata": {},
   "source": [
    "**Importing the necessary modules**"
   ]
  },
  {
   "cell_type": "code",
   "execution_count": 1,
   "id": "0aaef61d",
   "metadata": {},
   "outputs": [],
   "source": [
    "import tensorflow as tf\n",
    "from tensorflow.keras.preprocessing.image import ImageDataGenerator \n",
    "import cv2\n",
    "import imutils\n",
    "import matplotlib.pyplot as plt \n",
    "%matplotlib inline\n",
    "from os import listdir\n",
    "import time "
   ]
  },
  {
   "cell_type": "markdown",
   "id": "2ae0f475",
   "metadata": {},
   "source": [
    "**Creating a time function to check how much time it is taking to generate the images** \n",
    "\n",
    "This function takes the number of seconds that have elapsed and formats it into a proper hms format "
   ]
  },
  {
   "cell_type": "code",
   "execution_count": 2,
   "id": "23e8e323",
   "metadata": {},
   "outputs": [],
   "source": [
    "def time_str(t_elap):\n",
    "    hrs=int(t_elap/3600) # to get number of hours\n",
    "    min_=int((t_elap%3600)/60) #minutes are calculated from the seconds left after accounting for full hours\n",
    "    sec_=int(t_elap%60) #seconds are calculated from the time left after accounting for full minutes \n",
    "    \n",
    "    return f\"{hrs}:{min_}:{sec_}\""
   ]
  },
  {
   "cell_type": "markdown",
   "id": "825541c9",
   "metadata": {},
   "source": [
    "**Creating a function to perform data augmentation**"
   ]
  },
  {
   "cell_type": "code",
   "execution_count": 3,
   "id": "1a378d03",
   "metadata": {},
   "outputs": [],
   "source": [
    "def augmentation(dir,n_samples,save_dir):\n",
    "    \n",
    "    # dir is the path in a string format , where the original images are found \n",
    "    # n_samples are the number of samples to create for each image present in the dir path \n",
    "    # save_dir is the path in a string format , where the augmented images are to be stored. \n",
    "    \n",
    "    \n",
    "    # These are the parameters by which the augmented image shifts from the original\n",
    "\n",
    "    data_aug=ImageDataGenerator(rotation_range=20,width_shift_range=0.1,height_shift_range=0.1,shear_range=0.15,\n",
    "                                brightness_range=(0.6,1.4),zoom_range=0.10,horizontal_flip=True,vertical_flip=False,\n",
    "                                fill_mode=\"reflect\")\n",
    "    \n",
    "    \n",
    "    for file in listdir(dir):\n",
    "        img=cv2.imread(dir+\"\\\\\"+file) #loading the images from the directory \n",
    "        \n",
    "        img=img.reshape((1,)+img.shape) #Changing the shape of images \n",
    "        \n",
    "        prefix='aug_' + file[:-4] #adding a prefixx to the name of the original image to save the augmented ones \n",
    "        \n",
    "        # Generating the augmented samples\n",
    "        i=0\n",
    "        \n",
    "        \n",
    "        for batch in data_aug.flow(x=img,batch_size=1,save_to_dir=save_dir,save_prefix=prefix,save_format=\".jpg\"):\n",
    "            \n",
    "            # data_aug.flow generates augmented images based on the pararmeters we defined before \n",
    "            i+=1\n",
    "            \n",
    "            if i > n_samples:\n",
    "                break \n",
    "        "
   ]
  },
  {
   "cell_type": "markdown",
   "id": "75db0731",
   "metadata": {},
   "source": [
    "**Running the function and generating the images**"
   ]
  },
  {
   "cell_type": "code",
   "execution_count": 4,
   "id": "c9f75e58",
   "metadata": {},
   "outputs": [
    {
     "name": "stdout",
     "output_type": "stream",
     "text": [
      "Total time elaspsed: 0:7:15\n"
     ]
    }
   ],
   "source": [
    "start=time.time() #To get the current time when the fucniton is running \n",
    "\n",
    "aug_data_path=r\"Augmented Data/\"\n",
    "\n",
    "# Augmenting data present in the 0 folder\n",
    "augmentation(dir=r\"Data\\0\",n_samples=5,save_dir=aug_data_path+'0')\n",
    "\n",
    "# Augmenting the data present in the 1 folder\n",
    "augmentation(dir=r\"Data\\1\",n_samples=6,save_dir=aug_data_path+'1')\n",
    "\n",
    "# Augmenting the data present in the 2 folder\n",
    "augmentation(dir=r\"Data\\2\",n_samples=8,save_dir=aug_data_path+'2')\n",
    "\n",
    "# Augmenting the data present in the 3 folder\n",
    "augmentation(dir=r\"Data\\3\",n_samples=7,save_dir=aug_data_path+'3')\n",
    "\n",
    "# Augmenting the data present in the 4 folder\n",
    "augmentation(dir=r\"Data\\4\",n_samples=5,save_dir=aug_data_path+'4')\n",
    "\n",
    "# Augmenting the data present in the 5 folder\n",
    "augmentation(dir=r\"Data\\5\",n_samples=10,save_dir=aug_data_path+'5')\n",
    "\n",
    "# Augmenting the data present in the 6 folder\n",
    "augmentation(dir=r\"Data\\6\",n_samples=9,save_dir=aug_data_path+'6')\n",
    "\n",
    "# Augmenting the data present in the 7 folder\n",
    "augmentation(dir=r\"Data\\7\",n_samples=11,save_dir=aug_data_path+'7')\n",
    "\n",
    "# Augmenting the data present in the 8 folder\n",
    "augmentation(dir=r\"Data\\8\",n_samples=5,save_dir=aug_data_path+'8')\n",
    "\n",
    "# Augmenting the data present in the 9 folder\n",
    "augmentation(dir=r\"Data\\9\",n_samples=6,save_dir=aug_data_path+'9')\n",
    "\n",
    "\n",
    "\n",
    "end=time.time()\n",
    "\n",
    "e_time=(end-start)\n",
    "\n",
    "print(f\"Total time elaspsed: {time_str(e_time)}\")"
   ]
  },
  {
   "cell_type": "code",
   "execution_count": null,
   "id": "07ca7e19",
   "metadata": {},
   "outputs": [],
   "source": [
    "def summary(path):\n",
    "    zero=path+'0'\n",
    "    one=path+'1'\n",
    "    two=path+'2'\n",
    "    three=path+'3'\n",
    "    four=path+'4'\n",
    "    five=path+'5'\n",
    "    six=path+'6'\n",
    "    seven=path+'7'\n",
    "    eight=path+'8'\n",
    "    nine=path+'9'\n",
    "    \n",
    "    # Total number of yes samples\n",
    "    \n",
    "    zero_samples=len(listdir(zero))\n",
    "    one_samples=len(listdir(one))\n",
    "    two_samples=len(listdir(two))\n",
    "    three_samples=len(listdir(three))\n",
    "    four_samples=len(listdir(four))\n",
    "    five_samples=len(listdir(five))\n",
    "    six_samples=len(listdir(six))\n",
    "    seven_samples=len(listdir(seven))\n",
    "    eight_samples=len(listdir(eight))\n",
    "    nine_samples=len(listdir(nine))\n",
    "    \n",
    "    \n",
    "    \n",
    "    # Total samples\n",
    "    \n",
    "    t_samples=(zero_samples+one_samples+two_samples+three_samples+four_samples+five_samples+six_samples+seven_samples+eight_samples+nine_samples) \n",
    "    \n",
    "    zero_samples_prec = (zero_samples* 100.0)/ t_samples\n",
    "    one_samples_prec = (one_samples* 100.0)/ t_samples\n",
    "    two_samples_prec = (two_samples* 100.0)/ t_samples\n",
    "    three_samples_prec = (three_samples* 100.0)/ t_samples\n",
    "    four_samples_prec = (four_samples* 100.0)/ t_samples\n",
    "    five_samples_prec = (five_samples* 100.0)/ t_samples\n",
    "    six_samples_prec = (six_samples* 100.0)/ t_samples\n",
    "    seven_samples_prec = (seven_samples* 100.0)/ t_samples\n",
    "    eight_samples_prec = (eight_samples* 100.0)/ t_samples\n",
    "    nine_samples_prec = (nine_samples* 100.0)/ t_samples\n",
    "    \n",
    "    \n",
    "    # Displaying all the detaols\n",
    "    \n",
    "    print(f\"Total Number of samples: {t_samples}\")\n",
    "    print(f\"Percentage of samples for 0: {zero_samples_prec}%, number of samples for 0: {zero_samples}\") \n",
    "    print(f\"Percentage of samples for 1: {one_samples_prec}%, number of samples for 1: {one_samples}\") \n",
    "    print(f\"Percentage of samples for 2: {two_samples_prec}%, number of samples for 2: {two_samples}\") \n",
    "    print(f\"Percentage of samples for 3: {three_samples_prec}%, number of samples for 3: {three_samples}\") \n",
    "    print(f\"Percentage of samples for 4: {four_samples_prec}%, number of samples for 4: {four_samples}\") \n",
    "    print(f\"Percentage of samples for 5: {five_samples_prec}%, number of samples for 5: {five_samples}\") \n",
    "    print(f\"Percentage of samples for 6: {six_samples_prec}%, number of samples for 6: {six_samples}\") \n",
    "    print(f\"Percentage of samples for 7: {seven_samples_prec}%, number of samples for 7: {seven_samples}\") \n",
    "    print(f\"Percentage of samples for 8: {eight_samples_prec}%, number of samples for 8: {eight_samples}\") \n",
    "    print(f\"Percentage of samples for 9: {nine_samples_prec}%, number of samples for 9: {nine_samples}\") \n",
    "    "
   ]
  },
  {
   "cell_type": "code",
   "execution_count": 6,
   "id": "5b81067d",
   "metadata": {},
   "outputs": [
    {
     "name": "stdout",
     "output_type": "stream",
     "text": [
      "Total Number of samples: 10240\n",
      "Percentage of samples for 0: 11.015625%, number of samples for 0: 1128\n",
      "Percentage of samples for 1: 9.775390625%, number of samples for 0: 1001\n",
      "Percentage of samples for 2: 10.44921875%, number of samples for 0: 1070\n",
      "Percentage of samples for 3: 9.443359375%, number of samples for 0: 967\n",
      "Percentage of samples for 4: 10.068359375%, number of samples for 0: 1031\n",
      "Percentage of samples for 5: 10.087890625%, number of samples for 0: 1033\n",
      "Percentage of samples for 6: 9.9609375%, number of samples for 0: 1020\n",
      "Percentage of samples for 7: 10.078125%, number of samples for 0: 1032\n",
      "Percentage of samples for 8: 9.4921875%, number of samples for 0: 972\n",
      "Percentage of samples for 9: 9.62890625%, number of samples for 0: 986\n"
     ]
    }
   ],
   "source": [
    "summary(aug_data_path)"
   ]
  }
 ],
 "metadata": {
  "kernelspec": {
   "display_name": "venv",
   "language": "python",
   "name": "python3"
  },
  "language_info": {
   "codemirror_mode": {
    "name": "ipython",
    "version": 3
   },
   "file_extension": ".py",
   "mimetype": "text/x-python",
   "name": "python",
   "nbconvert_exporter": "python",
   "pygments_lexer": "ipython3",
   "version": "3.11.6"
  }
 },
 "nbformat": 4,
 "nbformat_minor": 5
}
