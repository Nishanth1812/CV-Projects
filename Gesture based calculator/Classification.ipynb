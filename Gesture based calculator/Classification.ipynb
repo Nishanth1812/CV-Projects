{
 "cells": [
  {
   "cell_type": "markdown",
   "id": "f9a465a1",
   "metadata": {},
   "source": [
    "**NOTE:** This Jupyter Notebook contains the code to train the custom cnn on the training data and analysing its performance."
   ]
  },
  {
   "cell_type": "markdown",
   "id": "b656314f",
   "metadata": {},
   "source": [
    "**Importing the necessary modules**"
   ]
  },
  {
   "cell_type": "code",
   "execution_count": 1,
   "id": "ef206cd7",
   "metadata": {},
   "outputs": [],
   "source": [
    "import numpy as np\n",
    "import cv2\n",
    "import os\n",
    "from os import listdir\n",
    "import time \n",
    "import matplotlib.pyplot as plt \n",
    "%matplotlib inline\n",
    "\n",
    "from sklearn.model_selection import train_test_split\n",
    "from sklearn.metrics import f1_score\n",
    "from sklearn.utils import shuffle\n",
    "\n",
    "\n",
    "import tensorflow as tf\n",
    "from tensorflow.keras.callbacks import ModelCheckpoint, EarlyStopping\n",
    "from tensorflow.keras.models import Model, load_model"
   ]
  },
  {
   "cell_type": "markdown",
   "id": "d0d22b43",
   "metadata": {},
   "source": [
    "**Creating functions for loading the data**"
   ]
  },
  {
   "cell_type": "code",
   "execution_count": null,
   "id": "69f0c215",
   "metadata": {},
   "outputs": [],
   "source": [
    "def load_data(dir_list,img_size):\n",
    "    X=[]\n",
    "    y=[]\n",
    "    \n",
    "    img_width,img_height=img_size\n",
    "    \n",
    "    for dir in dir_list:\n",
    "        if dir.endswith('0'):\n",
    "            label=0\n",
    "        elif dir.endswith('1'):\n",
    "            label=1\n",
    "        elif dir.endswith('2'):\n",
    "            label=2\n",
    "        elif dir.endswith('3'):\n",
    "            label=3\n",
    "        elif dir.endswith('4'):\n",
    "            label=4\n",
    "        elif dir.endswith('5'):\n",
    "            label=5\n",
    "        elif dir.endswith('6'):\n",
    "            label=6\n",
    "        elif dir.endswith('7'):\n",
    "            label=7\n",
    "        elif dir.endswith('8'):\n",
    "            label=8\n",
    "        elif dir.endswith('9'):\n",
    "            label=9\n",
    "        elif dir.endswith('plus'):\n",
    "            label=10\n",
    "        elif dir.endswith('minus'):\n",
    "            label=11\n",
    "        elif dir.endswith('multiply'):\n",
    "            label=12\n",
    "        elif dir.endswith('divide'):\n",
    "            label=13\n",
    "        elif dir.endswith('equal'):\n",
    "            label=14\n",
    "        elif dir.endswith('clear'):\n",
    "            label=15 \n",
    "        \n",
    "            \n",
    "        for f_name in os.listdir(dir):\n",
    "            img_path=os.path.join(dir,f_name)\n",
    "            img=cv2.imread(img_path)\n",
    "            \n",
    "            if img is None:\n",
    "                print(f\"[WARN] Skipping unreadable image: {img_path}\")\n",
    "                continue\n",
    "            \n",
    "            img=cv2.cvtColor(img,cv2.COLOR_BGR2GRAY)\n",
    "            img=cv2.resize(img,(img_width,img_height))\n",
    "            img=img.reshape((img_width,img_height,1))\n",
    "            img=img/255.0 \n",
    "            \n",
    "            X.append(img)\n",
    "            y.append(label)\n",
    "\n",
    "        \n",
    "    X=np.array(X)\n",
    "    y=np.array(y)\n",
    "    X,y=shuffle(X,y)\n",
    "            \n",
    "    print(f\"Number of samples: {len(X)}\")\n",
    "    print(f\"Dimensions of X: {X.shape}\")\n",
    "    print(f\"Dimensions of y: {y.shape}\")\n",
    "\n",
    "    return X,y"
   ]
  },
  {
   "cell_type": "markdown",
   "id": "36c029ee",
   "metadata": {},
   "source": [
    "**Loading all the image data and converting them into numpy arrays**"
   ]
  },
  {
   "cell_type": "code",
   "execution_count": 5,
   "id": "01539b45",
   "metadata": {},
   "outputs": [
    {
     "name": "stdout",
     "output_type": "stream",
     "text": [
      "Number of samples: 10240\n",
      "Dimensions of X: (10240, 128, 128, 1)\n",
      "Dimensions of y: (10240,)\n"
     ]
    }
   ],
   "source": [
    "aug_path=r\"Augmented Data\"\n",
    "\n",
    "paths = [os.path.join(aug_path, str(i)) for i in range(10)]\n",
    "\n",
    "img_width,img_height=(128,128)\n",
    "\n",
    "X,y=load_data(paths,(img_width,img_height))"
   ]
  },
  {
   "cell_type": "markdown",
   "id": "2f28d8ce",
   "metadata": {},
   "source": [
    "**Saving X and y as numpy arrays (useful if using colab or kaggle to train)**"
   ]
  },
  {
   "cell_type": "code",
   "execution_count": 6,
   "id": "8cbbd5e7",
   "metadata": {},
   "outputs": [],
   "source": [
    "np.savez_compressed(\"data.npz\",X=X,y=y)"
   ]
  },
  {
   "cell_type": "markdown",
   "id": "b7117688",
   "metadata": {},
   "source": [
    "**Splitting the data into test and train**"
   ]
  },
  {
   "cell_type": "code",
   "execution_count": null,
   "id": "f81aaf58",
   "metadata": {},
   "outputs": [],
   "source": [
    "X_train, X_test_val, y_train, y_test_val = train_test_split(X, y, test_size=0.2)\n",
    "X_test, X_val, y_test, y_val = train_test_split(X_test_val, y_test_val, test_size=0.5)"
   ]
  },
  {
   "cell_type": "markdown",
   "id": "0ff23b50",
   "metadata": {},
   "source": [
    "**Loading the model**"
   ]
  },
  {
   "cell_type": "code",
   "execution_count": null,
   "id": "38044740",
   "metadata": {},
   "outputs": [],
   "source": [
    "model=load_model(\"custom_detection_model.keras\")"
   ]
  },
  {
   "cell_type": "markdown",
   "id": "6df49023",
   "metadata": {},
   "source": [
    "**Making Adjustments to reduce overfitting and training time**"
   ]
  },
  {
   "cell_type": "code",
   "execution_count": null,
   "id": "0a89032e",
   "metadata": {},
   "outputs": [],
   "source": [
    "checkpoint=ModelCheckpoint(\n",
    "    \"custom_detection_model.keras\",\n",
    "    monitor='val_accuracy',\n",
    "    save_best_only=True,\n",
    "    verbose=2,\n",
    "    mode=\"max\"\n",
    ")\n",
    "\n",
    "early_stop=EarlyStopping(\n",
    "    monitor=\"val_accuracy\",\n",
    "    patience=5,\n",
    "    restore_best_weights=True\n",
    ")"
   ]
  },
  {
   "cell_type": "markdown",
   "id": "140afc1d",
   "metadata": {},
   "source": [
    "**Training**"
   ]
  },
  {
   "cell_type": "code",
   "execution_count": null,
   "id": "e2e737ba",
   "metadata": {},
   "outputs": [],
   "source": [
    "model.fit(x=X_train,y=y_train,batch_size=64,epochs=50,validation_data=(X_val,y_val),callbacks=[checkpoint, early_stop])\n"
   ]
  },
  {
   "cell_type": "code",
   "execution_count": null,
   "id": "b1b6f7e7",
   "metadata": {},
   "outputs": [],
   "source": []
  }
 ],
 "metadata": {
  "kernelspec": {
   "display_name": "venv",
   "language": "python",
   "name": "python3"
  },
  "language_info": {
   "codemirror_mode": {
    "name": "ipython",
    "version": 3
   },
   "file_extension": ".py",
   "mimetype": "text/x-python",
   "name": "python",
   "nbconvert_exporter": "python",
   "pygments_lexer": "ipython3",
   "version": "3.11.6"
  }
 },
 "nbformat": 4,
 "nbformat_minor": 5
}
