{
 "cells": [
  {
   "cell_type": "markdown",
   "metadata": {},
   "source": [
    "**Importing modules**"
   ]
  },
  {
   "cell_type": "code",
   "execution_count": null,
   "metadata": {
    "_cell_guid": "b1076dfc-b9ad-4769-8c92-a6c4dae69d19",
    "_uuid": "8f2839f25d086af736a60e9eeb907d3b93b6e0e5",
    "execution": {
     "execution_failed": "2025-09-30T06:27:07.754Z",
     "iopub.execute_input": "2025-09-30T06:27:06.742491Z",
     "iopub.status.busy": "2025-09-30T06:27:06.742275Z"
    },
    "trusted": true
   },
   "outputs": [],
   "source": [
    "import torch\n",
    "import torch.nn as nn\n",
    "import torch.optim as optim\n",
    "import torch.nn.functional as F\n",
    "from torchvision import datasets, transforms\n",
    "from torch.utils.data import DataLoader\n",
    "from torchvision.utils import make_grid, save_image\n",
    "from tqdm import tqdm\n",
    "import os\n",
    "from PIL import Image\n",
    "\n",
    "device = torch.device('cuda' if torch.cuda.is_available() else 'cpu')\n"
   ]
  },
  {
   "cell_type": "markdown",
   "metadata": {},
   "source": [
    "**Building the Discriminator and Generator models**"
   ]
  },
  {
   "cell_type": "code",
   "execution_count": null,
   "metadata": {
    "execution": {
     "execution_failed": "2025-09-30T06:27:07.755Z"
    },
    "trusted": true
   },
   "outputs": [],
   "source": [
    "def initialize_weights(model):\n",
    "    for m in model.modules():\n",
    "        if isinstance(m, (nn.Conv2d, nn.ConvTranspose2d, nn.BatchNorm2d)):\n",
    "            nn.init.normal_(m.weight.data, 0.0, 0.02)\n",
    "\n",
    "class Discriminator(nn.Module):\n",
    "    def __init__(self, channels_img, features_d):\n",
    "        super(Discriminator, self).__init__()\n",
    "        self.disc = nn.Sequential(\n",
    "            nn.Conv2d(channels_img, features_d, 4, 2, 1, bias=False),\n",
    "            nn.LeakyReLU(0.2, inplace=True),\n",
    "\n",
    "            self.block(features_d, features_d * 2, 4, 2, 1),\n",
    "            self.block(features_d * 2, features_d * 4, 4, 2, 1),\n",
    "            self.block(features_d * 4, features_d * 8, 4, 2, 1),\n",
    "\n",
    "            nn.Conv2d(features_d * 8, 1, 4, 1, 0, bias=False),\n",
    "            nn.Sigmoid()\n",
    "        )\n",
    "\n",
    "    def block(self, in_channels, out_channels, kernel_size, stride, padding):\n",
    "        return nn.Sequential(\n",
    "            nn.Conv2d(in_channels, out_channels, kernel_size, stride, padding, bias=False),\n",
    "            nn.BatchNorm2d(out_channels),\n",
    "            nn.LeakyReLU(0.2, inplace=True),\n",
    "        )\n",
    "\n",
    "    def forward(self, x):\n",
    "        return self.disc(x)\n",
    "\n",
    "class Generator(nn.Module):\n",
    "    def __init__(self, z_dim, channels_img, features_g):\n",
    "        super(Generator, self).__init__()\n",
    "        self.gen = nn.Sequential(\n",
    "            self.block(z_dim, features_g * 8, 4, 1, 0),\n",
    "            self.block(features_g * 8, features_g * 4, 4, 2, 1),\n",
    "            self.block(features_g * 4, features_g * 2, 4, 2, 1),\n",
    "            self.block(features_g * 2, features_g, 4, 2, 1),\n",
    "            nn.ConvTranspose2d(features_g, channels_img, 4, 2, 1, bias=False),\n",
    "            nn.Tanh()\n",
    "        )\n",
    "\n",
    "    def block(self, in_channels, out_channels, kernel_size, stride, padding):\n",
    "        return nn.Sequential(\n",
    "            nn.ConvTranspose2d(in_channels, out_channels, kernel_size, stride, padding, bias=False),\n",
    "            nn.BatchNorm2d(out_channels),\n",
    "            nn.ReLU(True),\n",
    "        )\n",
    "\n",
    "    def forward(self, x):\n",
    "        return self.gen(x)\n"
   ]
  },
  {
   "cell_type": "markdown",
   "metadata": {},
   "source": [
    "**Setting up hyperparameters**"
   ]
  },
  {
   "cell_type": "code",
   "execution_count": null,
   "metadata": {
    "execution": {
     "execution_failed": "2025-09-30T06:27:07.755Z"
    },
    "trusted": true
   },
   "outputs": [],
   "source": [
    "lr_disc = 2e-5\n",
    "lr_gen = 1e-4\n",
    "batch_size = 128\n",
    "image_size = 64\n",
    "channels_img = 3\n",
    "z_dim = 100\n",
    "features_disc = 64\n",
    "features_gen = 64\n",
    "num_epochs = 200\n",
    "smooth_label = 0.9\n"
   ]
  },
  {
   "cell_type": "markdown",
   "metadata": {},
   "source": [
    "**Prepping the dataset**"
   ]
  },
  {
   "cell_type": "code",
   "execution_count": null,
   "metadata": {
    "execution": {
     "execution_failed": "2025-09-30T06:27:07.755Z"
    },
    "trusted": true
   },
   "outputs": [],
   "source": [
    "image_folder_path = \"/kaggle/input/celeba-dataset/img_align_celeba/img_align_celeba\"\n",
    "assert os.path.exists(image_folder_path), f\"Path does not exist: {image_folder_path}\"\n",
    "\n",
    "transform = transforms.Compose([\n",
    "    transforms.Resize(image_size),\n",
    "    transforms.CenterCrop(image_size),\n",
    "    transforms.ToTensor(),\n",
    "    transforms.Normalize([0.5] * 3, [0.5] * 3)\n",
    "])\n",
    "\n",
    "class CelebADataset(torch.utils.data.Dataset):\n",
    "    def __init__(self, root_dir, transform=None):\n",
    "        self.root_dir = root_dir\n",
    "        self.transform = transform\n",
    "        self.images = [f for f in os.listdir(root_dir) if f.lower().endswith(('.jpg', '.jpeg', '.png'))]\n",
    "\n",
    "    def __len__(self):\n",
    "        return len(self.images)\n",
    "\n",
    "    def __getitem__(self, idx):\n",
    "        img_name = self.images[idx]\n",
    "        img_path = os.path.join(self.root_dir, img_name)\n",
    "        image = Image.open(img_path).convert('RGB')\n",
    "        if self.transform:\n",
    "            image = self.transform(image)\n",
    "        return image, 0  # dummy label\n",
    "\n",
    "dataset = CelebADataset(image_folder_path, transform=transform)\n",
    "\n",
    "loader = DataLoader(\n",
    "    dataset,\n",
    "    batch_size=batch_size,\n",
    "    shuffle=True,\n",
    "    num_workers=4,\n",
    "    pin_memory=True,\n",
    "    persistent_workers=True,\n",
    "    prefetch_factor=4\n",
    ")\n"
   ]
  },
  {
   "cell_type": "markdown",
   "metadata": {},
   "source": [
    "**Setting up optimizers and losses**"
   ]
  },
  {
   "cell_type": "code",
   "execution_count": null,
   "metadata": {
    "execution": {
     "execution_failed": "2025-09-30T06:27:07.755Z"
    },
    "trusted": true
   },
   "outputs": [],
   "source": [
    "gen = Generator(z_dim, channels_img, features_gen).to(device)\n",
    "disc = Discriminator(channels_img, features_disc).to(device)\n",
    "\n",
    "initialize_weights(gen)\n",
    "initialize_weights(disc)\n",
    "\n",
    "if torch.cuda.device_count() > 1:\n",
    "    gen = nn.DataParallel(gen)\n",
    "    disc = nn.DataParallel(disc)\n",
    "\n",
    "opt_gen = optim.Adam(gen.parameters(), lr=lr_gen, betas=(0.5, 0.999))\n",
    "opt_disc = optim.Adam(disc.parameters(), lr=lr_disc, betas=(0.5, 0.999))\n",
    "criterion = nn.BCELoss()\n"
   ]
  },
  {
   "cell_type": "markdown",
   "metadata": {},
   "source": [
    "**Training loop**"
   ]
  },
  {
   "cell_type": "code",
   "execution_count": null,
   "metadata": {
    "execution": {
     "execution_failed": "2025-09-30T06:27:07.755Z"
    },
    "trusted": true
   },
   "outputs": [],
   "source": [
    "os.makedirs(\"outputs\", exist_ok=True)\n",
    "\n",
    "for epoch in range(num_epochs):\n",
    "    gen.train()\n",
    "    disc.train()\n",
    "\n",
    "    total_loss_gen = 0\n",
    "    total_loss_disc = 0\n",
    "    batches = 0\n",
    "\n",
    "    pbar = tqdm(loader, desc=f\"Epoch {epoch+1}/{num_epochs}\")\n",
    "    for real, _ in pbar:\n",
    "        real = real.to(device)\n",
    "        batch_size_curr = real.size(0)\n",
    "\n",
    "        noise = torch.randn(batch_size_curr, z_dim, 1, 1, device=device)\n",
    "\n",
    "        # Train Discriminator\n",
    "        disc.zero_grad()\n",
    "        label_real = torch.full((batch_size_curr,), smooth_label, device=device)\n",
    "        label_fake = torch.zeros(batch_size_curr, device=device)\n",
    "\n",
    "        output_real = disc(real).view(-1)\n",
    "        loss_real = criterion(output_real, label_real)\n",
    "\n",
    "        fake = gen(noise)\n",
    "        output_fake = disc(fake.detach()).view(-1)\n",
    "        loss_fake = criterion(output_fake, label_fake)\n",
    "\n",
    "        loss_disc = (loss_real + loss_fake) / 2\n",
    "        loss_disc.backward()\n",
    "        opt_disc.step()\n",
    "\n",
    "        # Train Generator\n",
    "        gen.zero_grad()\n",
    "        output_fake_for_gen = disc(fake).view(-1)\n",
    "        loss_gen = criterion(output_fake_for_gen, label_real)\n",
    "        loss_gen.backward()\n",
    "        opt_gen.step()\n",
    "\n",
    "        total_loss_gen += loss_gen.item()\n",
    "        total_loss_disc += loss_disc.item()\n",
    "        batches += 1\n",
    "\n",
    "        pbar.set_postfix(gen_loss=loss_gen.item(), disc_loss=loss_disc.item())\n",
    "\n",
    "    avg_loss_gen = total_loss_gen / batches\n",
    "    avg_loss_disc = total_loss_disc / batches\n",
    "\n",
    "    print(f\"Epoch [{epoch+1}/{num_epochs}] Generator Loss: {avg_loss_gen:.4f}, Discriminator Loss: {avg_loss_disc:.4f}\")\n",
    "\n",
    "    # Save sample images and model checkpoints every few epochs\n",
    "    if (epoch + 1) % 10 == 0 or epoch == num_epochs - 1:\n",
    "        gen.eval()\n",
    "        with torch.no_grad():\n",
    "            fake_images = gen(torch.randn(32, z_dim, 1, 1, device=device))\n",
    "            grid_real = make_grid(real[:32], normalize=True, value_range=(-1,1))\n",
    "            grid_fake = make_grid(fake_images, normalize=True, value_range=(-1,1))\n",
    "\n",
    "            # If size mismatch, interpolate fake to match real\n",
    "            if grid_real.shape != grid_fake.shape:\n",
    "                grid_fake = F.interpolate(grid_fake.unsqueeze(0), size=grid_real.shape[1:], mode='bilinear', align_corners=False).squeeze(0)\n",
    "\n",
    "            comparison = torch.cat((grid_real, grid_fake), dim=1)\n",
    "            save_image(comparison, f\"outputs/real_vs_fake_epoch_{epoch+1}.png\")\n",
    "\n",
    "        gen.train()\n",
    "    \n",
    "    torch.cuda.synchronize()\n"
   ]
  }
 ],
 "metadata": {
  "kaggle": {
   "accelerator": "nvidiaTeslaT4",
   "dataSources": [
    {
     "datasetId": 29561,
     "sourceId": 37705,
     "sourceType": "datasetVersion"
    }
   ],
   "isGpuEnabled": true,
   "isInternetEnabled": true,
   "language": "python",
   "sourceType": "notebook"
  },
  "kernelspec": {
   "display_name": "Python 3",
   "language": "python",
   "name": "python3"
  },
  "language_info": {
   "codemirror_mode": {
    "name": "ipython",
    "version": 3
   },
   "file_extension": ".py",
   "mimetype": "text/x-python",
   "name": "python",
   "nbconvert_exporter": "python",
   "pygments_lexer": "ipython3",
   "version": "3.11.13"
  }
 },
 "nbformat": 4,
 "nbformat_minor": 4
}
